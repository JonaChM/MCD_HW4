{
 "cells": [
  {
   "cell_type": "markdown",
   "metadata": {
    "id": "GItxU96mTk16"
   },
   "source": [
    "# Matemática para Ciencia de los Datos\n",
    "# Trabajo Práctico 4\n",
    "\n",
    "Profesor: Juan Luis Crespo Mariño (basado en trabajo previo del Prof. Dr. Luis Alexánder Calvo Valverde)\n",
    "\n",
    "Instituto Tecnológico de Costa Rica,\n",
    "\n",
    "Programa Ciencia de Datos\n",
    "\n",
    "---\n",
    "\n",
    "Fecha de entrega: 5 de Noviembre del 2024, a más tardar a las 6:00 pm.\n",
    "\n",
    "Medio de entrega: Por medio del TEC-Digital.\n",
    "\n",
    "Entregables: Un archivo jupyter ( .IPYNB ).\n",
    "\n",
    "Estudiante(s):\n",
    "1. Jonathan Chavarria Miranda\n",
    "1. Felipe Quesada Miranda\n"
   ]
  },
  {
   "cell_type": "markdown",
   "metadata": {
    "id": "tgcoZAm82q8Y"
   },
   "source": [
    "\n",
    "---\n",
    "\n",
    "## Parte 1\n",
    "\n",
    "Dada la siguiente matriz:\n",
    "\n",
    "\\begin{equation}\n",
    "A= \\begin{bmatrix}\n",
    "   1.,2. \\\\\n",
    "   3.,4.\n",
    "\\end{bmatrix}\n",
    "\\end{equation}\n",
    "\n",
    "\n"
   ]
  },
  {
   "cell_type": "markdown",
   "metadata": {
    "id": "lFwss7hSAJT3"
   },
   "source": [
    "**Ejercicio 1.1 (25 puntos)**\n",
    "\n",
    "En una celda de texto, calcule los auto-valores y deje planteada la ecuación para el cálculo de los los auto-vectores como los ejemplos vistos en clase. Debe mostrar todo el procedimiento."
   ]
  },
  {
   "cell_type": "markdown",
   "metadata": {
    "id": "tCGUhHInAJT4"
   },
   "source": [
    "Para una matriz cuadrada A, los autovalores $\\lambda$ son las soluciones de la ecuación característica:\n",
    "$\\det(A - \\lambda I) = 0 \\\\$ \n",
    "$A - \\lambda I = \\begin{bmatrix} 1 - \\lambda & 2 \\\\ 3 & 4 - \\lambda \\end{bmatrix} \\\\$\n",
    "$\\det(A - \\lambda I) = \\det\\begin{bmatrix} 1 - \\lambda & 2 \\\\ 3 & 4 - \\lambda \\end{bmatrix} \\\\$\n",
    "$\\text{Dada la ecuacion:} \\quad (1 - \\lambda)(4 - \\lambda) - 6 = 0 \\\\$\n",
    "$\\text{Expandiendo el producto } (1 - \\lambda)(4 - \\lambda): \\\\$\n",
    "$ = 1(4 - \\lambda) - \\lambda(4 - \\lambda) = 4 - \\lambda - 4\\lambda + \\lambda^2 = \\lambda^2 - 5\\lambda + 4 \\\\$\n",
    "$\\text{Sustituyendo en la ecuacion original:} \\\\$\n",
    "$\\lambda^2 - 5\\lambda + 4 - 6 = 0 \\\\$\n",
    "$\\text{Simplificando: } \\\\$\n",
    "$\\lambda^2 - 5\\lambda - 2 = 0 \\\\$\n",
    "$\\text{Resolviendo para la ecuacion} \\\\$\n",
    "$\\lambda^2 - 5\\lambda - 2 = 0 \\text{ usando la ecuacion cuadratica} \\\\$\n",
    "$\\lambda = \\frac{-b \\pm \\sqrt{b^2 - 4ac}}{2a} \\\\$\n",
    "$\\text{donde } a = 1, b = -5, c = -2. \\\\$\n",
    "$\\text{Sustituyendo esos valores} \\\\$\n",
    "$\\lambda = \\frac{-(-5) \\pm \\sqrt{(-5)^2 - 4(1)(-2)}}{2(1)} = \\frac{5 \\pm \\sqrt{25 + 8}}{2} = \\frac{5 \\pm \\sqrt{33}}{2} \\\\$\n",
    "$\\text{Por lo tanto los autovalores son:} \\\\$\n",
    "$\\lambda_{1} = \\frac{5 + \\sqrt{33}}{2} \\quad \\text{o} \\quad \\lambda_{2} = \\frac{5 - \\sqrt{33}}{2} \\\\$\n",
    "\n",
    "$\\text{Para el calculo de los autovectores se debe satisfacer la ecuacion:} \\\\$\n",
    "$( A - \\lambda I) v = 0 \\\\$\n",
    "\n",
    "$\\text{Para } \\lambda_{1} = \\frac{5 + \\sqrt{33}}{2}\\\\$\n",
    "$(A - \\lambda_{1} I)v = \\begin{bmatrix} 1 - \\lambda_{1} & 2 \\\\ 3 & 4 - \\lambda_{1} \\end{bmatrix} \\begin{bmatrix} v_{1} \\\\ v_{2} \\end{bmatrix} = 0\\\\$\n",
    "\n",
    "$\\text{Para } \\lambda_{2} = \\quad \\lambda_{2} = \\frac{5 - \\sqrt{33}}{2}\\\\$\n",
    "$(A - \\lambda_{1} I)v = \\begin{bmatrix} 1 - \\lambda_{2} & 2 \\\\ 3 & 4 - \\lambda_{2} \\end{bmatrix} \\begin{bmatrix} v_{1} \\\\ v_{2} \\end{bmatrix} = 0\\\\$\n",
    "\n",
    "\n"
   ]
  },
  {
   "cell_type": "markdown",
   "metadata": {
    "id": "xhrJq1ZxAJT4"
   },
   "source": [
    "**Ejercicio 1.2 (25 puntos)**\n",
    "\n",
    "En una celda de código y utilizando la función eig de numpy, calcule los auto-valores y auto-vectores y haga las operaciones en el código para mostrar que se cumple: $A\\,\\vec{x} = \\lambda\\vec{x}$ (No olvide las pequeñas posibles diferencias por precisión de la representación numérica).\n"
   ]
  },
  {
   "cell_type": "code",
   "execution_count": null,
   "metadata": {
    "id": "u4_hMBHolFBm"
   },
   "outputs": [],
   "source": []
  },
  {
   "cell_type": "markdown",
   "metadata": {
    "id": "GxgMhL8hAJT7"
   },
   "source": [
    "\n",
    "---\n",
    "\n",
    "## Parte 2\n",
    "\n",
    "\n",
    "Realice lo siguiente: **(40 puntos)**\n",
    "1. Similar a los ejemplos vistos, aplíquele la estrategia PCA a los datos en el archivo adjunto \"data_banknote_authentication.csv\" (el $Y$ corresponde a la columna llamada clase).\n",
    "1. En este caso use los tres primeros componentes principales (no dos como en el ejemplo).\n",
    "1. El ejercicio termina graficando la varianza acumulada versus los componentes principales.\n",
    "\n",
    "---\n",
    "\n"
   ]
  },
  {
   "cell_type": "code",
   "execution_count": 72,
   "metadata": {
    "id": "fUSgfON2lFBm"
   },
   "outputs": [
    {
     "name": "stdout",
     "output_type": "stream",
     "text": [
      "------------------------------------------------------\n",
      "Filas data_banknote 1372\n",
      "Columnas data_banknote 5\n",
      "------------------------------------------------------\n",
      "[[  3.6216    8.6661   -2.8073   -0.44699]\n",
      " [  4.5459    8.1674   -2.4586   -1.4621 ]\n",
      " [  3.866    -2.6383    1.9242    0.10645]\n",
      " ...\n",
      " [ -3.7503  -13.4586   17.5932   -2.7771 ]\n",
      " [ -3.5637   -8.3827   12.393    -1.2823 ]\n",
      " [ -2.5419   -0.65804   2.6842    1.1952 ]]\n",
      "Filas X 1372\n",
      "Columnas X 4\n",
      "[[0]\n",
      " [0]\n",
      " [0]\n",
      " ...\n",
      " [1]\n",
      " [1]\n",
      " [1]]\n",
      "Filas Y 1372\n",
      "Columnas Y 1\n",
      "idx:  [2 3 1 0]\n",
      "\n",
      "\n",
      "idx[::-1]:  [0 1 3 2]\n",
      "Auto-valores:\n",
      "[2.80624544 0.52306238 0.24702755 0.10967099]\n",
      "Auto-vectores:\n",
      "[[ 0.14102363  0.80185963  0.43129585  0.38873816]\n",
      " [ 0.81039291 -0.263574    0.45613683 -0.25638111]\n",
      " [-0.54974221 -0.30038199  0.77819474 -0.04435204]\n",
      " [-0.14546192  0.44420777  0.01833097 -0.88384629]]\n",
      "eigenvalues_normalized:\n",
      "[0.76132409 0.1419049  0.02975334 0.06701767]\n",
      "Varianza explicada:\n",
      "[0.76132409 0.903229   0.93298233 1.        ]\n",
      "             0         1         2         3\n",
      "0     2.129476  0.196314  0.532136  0.051081\n",
      "1     2.054090  0.271489  0.632686  0.375773\n",
      "2    -0.671315  0.670722  0.209847  0.595254\n",
      "3     2.554205 -0.134470  0.372043  0.656260\n",
      "4    -1.446303 -0.192396  0.135399  0.581390\n",
      "...        ...       ...       ...       ...\n",
      "1367  0.442389 -0.066365 -0.338408  0.208856\n",
      "1368 -1.879290 -0.488326  0.271510  0.149663\n",
      "1369 -4.949593 -1.521599  1.139699  0.990661\n",
      "1370 -3.341169 -1.275442  0.754599  0.440528\n",
      "1371 -0.641679 -0.611260 -0.086415 -0.352253\n",
      "\n",
      "[1372 rows x 4 columns]\n",
      "Parte de las muestras proyectadas\n",
      "        pc1       pc2       pc3       pc4  class\n",
      "0  2.129476  0.196314  0.532136  0.051081      0\n",
      "1  2.054090  0.271489  0.632686  0.375773      0\n",
      "2 -0.671315  0.670722  0.209847  0.595254      0\n",
      "3  2.554205 -0.134470  0.372043  0.656260      0\n",
      "4 -1.446303 -0.192396  0.135399  0.581390      0\n"
     ]
    },
    {
     "data": {
      "image/png": "[encoded data removed]",
      "text/plain": [
       "<Figure size 800x400 with 1 Axes>"
      ]
     },
     "metadata": {},
     "output_type": "display_data"
    }
   ],
   "source": [
    "%matplotlib inline\n",
    "\n",
    "import pandas as pd\n",
    "import numpy as np\n",
    "#import sklearn.datasets\n",
    "import matplotlib.pyplot as plt\n",
    "\n",
    "plt.rcParams['figure.figsize'] = [8, 4]\n",
    "\n",
    "\n",
    "archivo = \"data_banknote_authentication.csv\"\n",
    "data_banknote = pd.read_csv(archivo, header = 0 , delimiter = ';')\n",
    "datos = pd.DataFrame(data_banknote).to_numpy()\n",
    "\n",
    "\n",
    "\n",
    "dimensiones = data_banknote.shape\n",
    "filas, columnas = dimensiones\n",
    "\n",
    "\n",
    "\n",
    "print(\"------------------------------------------------------\")\n",
    "print(\"Filas data_banknote\", filas)\n",
    "print(\"Columnas data_banknote\", columnas)\n",
    "print(\"------------------------------------------------------\")\n",
    "\n",
    "#print(data_banknote)\n",
    "X=datos[0:datos.shape[0]  , 0:4]\n",
    "print(X)\n",
    "\n",
    "dimensiones_X = X.shape\n",
    "filas_X, columnas_X = dimensiones_X\n",
    "print(\"Filas X\", filas_X)\n",
    "print(\"Columnas X\", columnas_X)\n",
    "\n",
    "# Escalar los datos en X\n",
    "X_zscaled = (X - X.mean()) / X.std(ddof=1)\n",
    "#print( X_zscaled )\n",
    "\n",
    "#datos[0:datos.shape[0] , 0:7 ]\n",
    "Y_dataFrame = data_banknote.loc[:, \"class\"]\n",
    "Y=pd.DataFrame(Y_dataFrame).to_numpy()\n",
    "print(Y)\n",
    "\n",
    "dimensiones_Y = Y.shape\n",
    "filas_Y, columnas_Y = dimensiones_Y\n",
    "print(\"Filas Y\", filas_Y)\n",
    "print(\"Columnas Y\", columnas_Y)\n",
    "\n",
    "\n",
    "eigenvalues, eigenvectors = np.linalg.eig( np.cov(X_zscaled,rowvar=False))\n",
    "# los normaliza\n",
    "eigenvalues_normalized = eigenvalues / eigenvalues.sum()\n",
    "# calcula la varianza explicada\n",
    "cumvar_explained = np.cumsum(eigenvalues_normalized)\n",
    "\n",
    "############################################################\n",
    "# Ordenar de mayor a menor, \n",
    "# debido a que np.linalg.eig no asegura que vengan ordenados\n",
    "idx = np.argsort(eigenvalues) \n",
    "print( \"idx: \", idx )\n",
    "idx = idx[::-1]     \n",
    "print(\"\\n\\nidx[::-1]: \", idx  )\n",
    "\n",
    "# Ordenar tanto los autovalroes como los autovectores\n",
    "eigenvectors = eigenvectors[:,idx]\n",
    "eigenvalues = eigenvalues[idx] \n",
    "\n",
    "\n",
    "print(\"Auto-valores:\")\n",
    "print(eigenvalues)\n",
    "print(\"Auto-vectores:\")\n",
    "print( eigenvectors)\n",
    "print(\"eigenvalues_normalized:\")\n",
    "print(eigenvalues_normalized)\n",
    "print(\"Varianza explicada:\")\n",
    "print( cumvar_explained )\n",
    "\n",
    "\n",
    "# Proyecta los datos y los grafica\n",
    "T = pd.DataFrame(X_zscaled.dot(eigenvectors))\n",
    "print(T)\n",
    "# Nombres de columnas\n",
    "T.columns = ['pc1', 'pc2', 'pc3', 'pc4']\n",
    "\n",
    "# agrega la etiqueta de las especies\n",
    "T = pd.concat([T, Y_dataFrame], axis=1)\n",
    "\n",
    "print(\"Parte de las muestras proyectadas\")\n",
    "print(T.head(5))\n",
    "\n",
    "\n",
    "\n",
    "\n",
    "\n",
    "#########################################\n",
    "# Primer gráfico\n",
    "#########################################\n",
    "# Separa por la etiqueta \n",
    "class_ = [T[T==0], \n",
    "          T[T==1], \n",
    "          ]\n",
    "\n",
    "# define un color por especie\n",
    "colors = ['#1b9e77', '#d95f02']\n",
    "\n",
    "_, (ax1) = plt.subplots(1, sharey=False)\n",
    "\n",
    "# muestra el componente principal respecto al total de varianza en los datos\n",
    "ax1.plot([1,2,3,4],\n",
    "         eigenvalues_normalized,\n",
    "         '-o',\n",
    "         color='#8da0cb',\n",
    "         label='auto-valor (normalizado)',\n",
    "         alpha=0.8,\n",
    "         zorder=1000)\n",
    "\n",
    "ax1.plot([1,2,3,4],\n",
    "         cumvar_explained,\n",
    "         '-o',\n",
    "         color='#fc8d62',\n",
    "         label='varianza explicada',\n",
    "         alpha=0.8,\n",
    "         zorder=1000)\n",
    "\n",
    "ax1.set_xlim(0.8, 4.2)\n",
    "ax1.set_xticks([1,2,3,4])\n",
    "ax1.set_xlabel('PCA')\n",
    "ax1.set_ylabel('Varianza')\n",
    "ax1.legend(loc='center right', fontsize=7)\n",
    "ax1.grid(color='#fdfefe')\n",
    "ax1.set_facecolor('#f4f6f7')\n",
    "\n"
   ]
  },
  {
   "cell_type": "markdown",
   "metadata": {
    "id": "jQpXD1eLlFBm"
   },
   "source": [
    "___\n",
    "\n",
    "## Parte 3\n",
    "\n",
    "Como en el segundo gráfico del cuaderno visto en clase sobre PCA, grafique los tres mayores componentes principales utilizando la bibioteca **plotly** https://plotly.com/python/3d-scatter-plots/  **(10 puntos)**\n",
    "\n",
    "\n",
    "___"
   ]
  },
  {
   "cell_type": "code",
   "execution_count": 79,
   "metadata": {
    "id": "jpgbyaWflFBm"
   },
   "outputs": [
    {
     "ename": "ValueError",
     "evalue": "Mime type rendering requires nbformat>=4.2.0 but it is not installed",
     "output_type": "error",
     "traceback": [
      "\u001b[1;31m---------------------------------------------------------------------------\u001b[0m",
      "\u001b[1;31mValueError\u001b[0m                                Traceback (most recent call last)",
      "Cell \u001b[1;32mIn[79], line 5\u001b[0m\n\u001b[0;32m      2\u001b[0m df\u001b[38;5;241m=\u001b[39mT\n\u001b[0;32m      3\u001b[0m fig \u001b[38;5;241m=\u001b[39m px\u001b[38;5;241m.\u001b[39mscatter_3d(df, x\u001b[38;5;241m=\u001b[39m\u001b[38;5;124m'\u001b[39m\u001b[38;5;124mpc1\u001b[39m\u001b[38;5;124m'\u001b[39m, y\u001b[38;5;241m=\u001b[39m\u001b[38;5;124m'\u001b[39m\u001b[38;5;124mpc2\u001b[39m\u001b[38;5;124m'\u001b[39m, z\u001b[38;5;241m=\u001b[39m\u001b[38;5;124m'\u001b[39m\u001b[38;5;124mpc3\u001b[39m\u001b[38;5;124m'\u001b[39m,\n\u001b[0;32m      4\u001b[0m               color\u001b[38;5;241m=\u001b[39m\u001b[38;5;124m'\u001b[39m\u001b[38;5;124mclass\u001b[39m\u001b[38;5;124m'\u001b[39m)\n\u001b[1;32m----> 5\u001b[0m \u001b[43mfig\u001b[49m\u001b[38;5;241;43m.\u001b[39;49m\u001b[43mshow\u001b[49m\u001b[43m(\u001b[49m\u001b[43m)\u001b[49m\n",
      "File \u001b[1;32mc:\\Users\\fquesada\\AppData\\Local\\anaconda3\\envs\\myenv\\Lib\\site-packages\\plotly\\basedatatypes.py:3410\u001b[0m, in \u001b[0;36mBaseFigure.show\u001b[1;34m(self, *args, **kwargs)\u001b[0m\n\u001b[0;32m   3377\u001b[0m \u001b[38;5;250m\u001b[39m\u001b[38;5;124;03m\"\"\"\u001b[39;00m\n\u001b[0;32m   3378\u001b[0m \u001b[38;5;124;03mShow a figure using either the default renderer(s) or the renderer(s)\u001b[39;00m\n\u001b[0;32m   3379\u001b[0m \u001b[38;5;124;03mspecified by the renderer argument\u001b[39;00m\n\u001b[1;32m   (...)\u001b[0m\n\u001b[0;32m   3406\u001b[0m \u001b[38;5;124;03mNone\u001b[39;00m\n\u001b[0;32m   3407\u001b[0m \u001b[38;5;124;03m\"\"\"\u001b[39;00m\n\u001b[0;32m   3408\u001b[0m \u001b[38;5;28;01mimport\u001b[39;00m \u001b[38;5;21;01mplotly\u001b[39;00m\u001b[38;5;21;01m.\u001b[39;00m\u001b[38;5;21;01mio\u001b[39;00m \u001b[38;5;28;01mas\u001b[39;00m \u001b[38;5;21;01mpio\u001b[39;00m\n\u001b[1;32m-> 3410\u001b[0m \u001b[38;5;28;01mreturn\u001b[39;00m \u001b[43mpio\u001b[49m\u001b[38;5;241;43m.\u001b[39;49m\u001b[43mshow\u001b[49m\u001b[43m(\u001b[49m\u001b[38;5;28;43mself\u001b[39;49m\u001b[43m,\u001b[49m\u001b[43m \u001b[49m\u001b[38;5;241;43m*\u001b[39;49m\u001b[43margs\u001b[49m\u001b[43m,\u001b[49m\u001b[43m \u001b[49m\u001b[38;5;241;43m*\u001b[39;49m\u001b[38;5;241;43m*\u001b[39;49m\u001b[43mkwargs\u001b[49m\u001b[43m)\u001b[49m\n",
      "File \u001b[1;32mc:\\Users\\fquesada\\AppData\\Local\\anaconda3\\envs\\myenv\\Lib\\site-packages\\plotly\\io\\_renderers.py:394\u001b[0m, in \u001b[0;36mshow\u001b[1;34m(fig, renderer, validate, **kwargs)\u001b[0m\n\u001b[0;32m    389\u001b[0m         \u001b[38;5;28;01mraise\u001b[39;00m \u001b[38;5;167;01mValueError\u001b[39;00m(\n\u001b[0;32m    390\u001b[0m             \u001b[38;5;124m\"\u001b[39m\u001b[38;5;124mMime type rendering requires ipython but it is not installed\u001b[39m\u001b[38;5;124m\"\u001b[39m\n\u001b[0;32m    391\u001b[0m         )\n\u001b[0;32m    393\u001b[0m     \u001b[38;5;28;01mif\u001b[39;00m \u001b[38;5;129;01mnot\u001b[39;00m nbformat \u001b[38;5;129;01mor\u001b[39;00m Version(nbformat\u001b[38;5;241m.\u001b[39m__version__) \u001b[38;5;241m<\u001b[39m Version(\u001b[38;5;124m\"\u001b[39m\u001b[38;5;124m4.2.0\u001b[39m\u001b[38;5;124m\"\u001b[39m):\n\u001b[1;32m--> 394\u001b[0m         \u001b[38;5;28;01mraise\u001b[39;00m \u001b[38;5;167;01mValueError\u001b[39;00m(\n\u001b[0;32m    395\u001b[0m             \u001b[38;5;124m\"\u001b[39m\u001b[38;5;124mMime type rendering requires nbformat>=4.2.0 but it is not installed\u001b[39m\u001b[38;5;124m\"\u001b[39m\n\u001b[0;32m    396\u001b[0m         )\n\u001b[0;32m    398\u001b[0m     ipython_display\u001b[38;5;241m.\u001b[39mdisplay(bundle, raw\u001b[38;5;241m=\u001b[39m\u001b[38;5;28;01mTrue\u001b[39;00m)\n\u001b[0;32m    400\u001b[0m \u001b[38;5;66;03m# external renderers\u001b[39;00m\n",
      "\u001b[1;31mValueError\u001b[0m: Mime type rendering requires nbformat>=4.2.0 but it is not installed"
     ]
    }
   ],
   "source": [
    "import plotly.express as px\n",
    "df=T\n",
    "fig = px.scatter_3d(df, x='pc1', y='pc2', z='pc3',\n",
    "              color='class')\n",
    "fig.show()"
   ]
  }
 ],
 "metadata": {
  "colab": {
   "provenance": []
  },
  "kernelspec": {
   "display_name": "myenv",
   "language": "python",
   "name": "python3"
  },
  "language_info": {
   "codemirror_mode": {
    "name": "ipython",
    "version": 3
   },
   "file_extension": ".py",
   "mimetype": "text/x-python",
   "name": "python",
   "nbconvert_exporter": "python",
   "pygments_lexer": "ipython3",
   "version": "3.12.7"
  }
 },
 "nbformat": 4,
 "nbformat_minor": 0
}
