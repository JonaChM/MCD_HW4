{
 "cells": [
  {
   "cell_type": "markdown",
   "metadata": {
    "id": "GItxU96mTk16"
   },
   "source": [
    "# Matemática para Ciencia de los Datos\n",
    "# Trabajo Práctico 4\n",
    "\n",
    "Profesor: Juan Luis Crespo Mariño (basado en trabajo previo del Prof. Dr. Luis Alexánder Calvo Valverde)\n",
    "\n",
    "Instituto Tecnológico de Costa Rica,\n",
    "\n",
    "Programa Ciencia de Datos\n",
    "\n",
    "---\n",
    "\n",
    "Fecha de entrega: 5 de Noviembre del 2024, a más tardar a las 6:00 pm.\n",
    "\n",
    "Medio de entrega: Por medio del TEC-Digital.\n",
    "\n",
    "Entregables: Un archivo jupyter ( .IPYNB ).\n",
    "\n",
    "Estudiante(s):\n",
    "1. Jonathan Chavarria Miranda\n",
    "1. Felipe Quesada Miranda\n"
   ]
  },
  {
   "cell_type": "markdown",
   "metadata": {
    "id": "tgcoZAm82q8Y"
   },
   "source": [
    "\n",
    "---\n",
    "\n",
    "## Parte 1\n",
    "\n",
    "Dada la siguiente matriz:\n",
    "\n",
    "\\begin{equation}\n",
    "A= \\begin{bmatrix}\n",
    "   1.,2. \\\\\n",
    "   3.,4.\n",
    "\\end{bmatrix}\n",
    "\\end{equation}\n",
    "\n",
    "\n"
   ]
  },
  {
   "cell_type": "markdown",
   "metadata": {
    "id": "lFwss7hSAJT3"
   },
   "source": [
    "**Ejercicio 1.1 (25 puntos)**\n",
    "\n",
    "En una celda de texto, calcule los auto-valores y deje planteada la ecuación para el cálculo de los los auto-vectores como los ejemplos vistos en clase. Debe mostrar todo el procedimiento."
   ]
  },
  {
   "cell_type": "markdown",
   "metadata": {
    "id": "tCGUhHInAJT4"
   },
   "source": [
    "Para una matriz cuadrada A, los autovalores $\\lambda$ son las soluciones de la ecuación característica:\n",
    "$\\det(A - \\lambda I) = 0 \\\\$ \n",
    "$A - \\lambda I = \\begin{bmatrix} 1 - \\lambda & 2 \\\\ 3 & 4 - \\lambda \\end{bmatrix} \\\\$\n",
    "$\\det(A - \\lambda I) = \\det\\begin{bmatrix} 1 - \\lambda & 2 \\\\ 3 & 4 - \\lambda \\end{bmatrix} \\\\$\n",
    "$\\text{Dada la ecuacion:} \\quad (1 - \\lambda)(4 - \\lambda) - 6 = 0 \\\\$\n",
    "$\\text{Expandiendo el producto } (1 - \\lambda)(4 - \\lambda): \\\\$\n",
    "$ = 1(4 - \\lambda) - \\lambda(4 - \\lambda) = 4 - \\lambda - 4\\lambda + \\lambda^2 = \\lambda^2 - 5\\lambda + 4 \\\\$\n",
    "$\\text{Sustituyendo en la ecuacion original:} \\\\$\n",
    "$\\lambda^2 - 5\\lambda + 4 - 6 = 0 \\\\$\n",
    "$\\text{Simplificando: } \\\\$\n",
    "$\\lambda^2 - 5\\lambda - 2 = 0 \\\\$\n",
    "$\\text{Resolviendo para la ecuacion} \\\\$\n",
    "$\\lambda^2 - 5\\lambda - 2 = 0 \\text{ usando la ecuacion cuadratica} \\\\$\n",
    "$\\lambda = \\frac{-b \\pm \\sqrt{b^2 - 4ac}}{2a} \\\\$\n",
    "$\\text{donde } a = 1, b = -5, c = -2. \\\\$\n",
    "$\\text{Sustituyendo esos valores} \\\\$\n",
    "$\\lambda = \\frac{-(-5) \\pm \\sqrt{(-5)^2 - 4(1)(-2)}}{2(1)} = \\frac{5 \\pm \\sqrt{25 + 8}}{2} = \\frac{5 \\pm \\sqrt{33}}{2} \\\\$\n",
    "$\\text{Por lo tanto los autovalores son:} \\\\$\n",
    "$\\lambda_{1} = \\frac{5 + \\sqrt{33}}{2} \\quad \\text{o} \\quad \\lambda_{2} = \\frac{5 - \\sqrt{33}}{2} \\\\$\n",
    "\n",
    "$\\text{Para el calculo de los autovectores se debe satisfacer la ecuacion:} \\\\$\n",
    "$( A - \\lambda I) v = 0 \\\\$\n",
    "\n",
    "$\\text{Para } \\lambda_{1} = \\frac{5 + \\sqrt{33}}{2}\\\\$\n",
    "$(A - \\lambda_{1} I)v = \\begin{bmatrix} 1 - \\lambda_{1} & 2 \\\\ 3 & 4 - \\lambda_{1} \\end{bmatrix} \\begin{bmatrix} v_{1} \\\\ v_{2} \\end{bmatrix} = 0\\\\$\n",
    "\n",
    "$\\text{Para } \\lambda_{2} = \\quad \\lambda_{2} = \\frac{5 - \\sqrt{33}}{2}\\\\$\n",
    "$(A - \\lambda_{1} I)v = \\begin{bmatrix} 1 - \\lambda_{2} & 2 \\\\ 3 & 4 - \\lambda_{2} \\end{bmatrix} \\begin{bmatrix} v_{1} \\\\ v_{2} \\end{bmatrix} = 0\\\\$\n",
    "\n",
    "\n"
   ]
  },
  {
   "cell_type": "markdown",
   "metadata": {
    "id": "xhrJq1ZxAJT4"
   },
   "source": [
    "**Ejercicio 1.2 (25 puntos)**\n",
    "\n",
    "En una celda de código y utilizando la función eig de numpy, calcule los auto-valores y auto-vectores y haga las operaciones en el código para mostrar que se cumple: $A\\,\\vec{x} = \\lambda\\vec{x}$ (No olvide las pequeñas posibles diferencias por precisión de la representación numérica).\n"
   ]
  },
  {
   "cell_type": "code",
   "execution_count": null,
   "metadata": {
    "id": "u4_hMBHolFBm"
   },
   "outputs": [],
   "source": []
  },
  {
   "cell_type": "markdown",
   "metadata": {
    "id": "GxgMhL8hAJT7"
   },
   "source": [
    "\n",
    "---\n",
    "\n",
    "## Parte 2\n",
    "\n",
    "\n",
    "Realice lo siguiente: **(40 puntos)**\n",
    "1. Similar a los ejemplos vistos, aplíquele la estrategia PCA a los datos en el archivo adjunto \"data_banknote_authentication.csv\" (el $Y$ corresponde a la columna llamada clase).\n",
    "1. En este caso use los tres primeros componentes principales (no dos como en el ejemplo).\n",
    "1. El ejercicio termina graficando la varianza acumulada versus los componentes principales.\n",
    "\n",
    "---\n",
    "\n"
   ]
  },
  {
   "cell_type": "code",
   "execution_count": null,
   "metadata": {
    "id": "fUSgfON2lFBm"
   },
   "outputs": [],
   "source": []
  },
  {
   "cell_type": "markdown",
   "metadata": {
    "id": "jQpXD1eLlFBm"
   },
   "source": [
    "___\n",
    "\n",
    "## Parte 3\n",
    "\n",
    "Como en el segundo gráfico del cuaderno visto en clase sobre PCA, grafique los tres mayores componentes principales utilizando la bibioteca **plotly** https://plotly.com/python/3d-scatter-plots/  **(10 puntos)**\n",
    "\n",
    "\n",
    "___"
   ]
  },
  {
   "cell_type": "code",
   "execution_count": null,
   "metadata": {
    "id": "jpgbyaWflFBm"
   },
   "outputs": [],
   "source": []
  }
 ],
 "metadata": {
  "colab": {
   "provenance": []
  },
  "kernelspec": {
   "display_name": "Python 3 (ipykernel)",
   "language": "python",
   "name": "python3"
  },
  "language_info": {
   "codemirror_mode": {
    "name": "ipython",
    "version": 3
   },
   "file_extension": ".py",
   "mimetype": "text/x-python",
   "name": "python",
   "nbconvert_exporter": "python",
   "pygments_lexer": "ipython3",
   "version": "3.12.4"
  }
 },
 "nbformat": 4,
 "nbformat_minor": 0
}
